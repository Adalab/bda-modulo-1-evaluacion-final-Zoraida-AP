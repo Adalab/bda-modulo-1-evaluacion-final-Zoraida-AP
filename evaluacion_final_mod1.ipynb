{
 "cells": [
  {
   "cell_type": "markdown",
   "metadata": {},
   "source": [
    "EJERCICIO COMPLETO"
   ]
  },
  {
   "cell_type": "code",
   "execution_count": 159,
   "metadata": {},
   "outputs": [],
   "source": [
    "class TiendaOnline: #creamos la clase TiendaOnline\n",
    "    \n",
    "  def __init__(self):  #definimos método constructor con los atributos.\n",
    "\n",
    "    self.inventario=[]\n",
    "    self.clientes= {'email': '', 'compras': []}\n",
    "    self.ventas_totales= 0.0 # iniciamos con un valor de 0 hasta que se introduzca la primera venta.\n",
    "            \n",
    "  def agregar_producto(self, nombre, precio, cantidad):\n",
    "      \n",
    "    # Recorremos el inventario para verificar si el producto ya existe\n",
    "      for producto in self.inventario:\n",
    "          if producto['nombre'] == nombre:\n",
    "            # Si el producto ya existe, actualizamos su cantidad y precio\n",
    "            producto['cantidad'] += cantidad  # Sumamos la cantidad\n",
    "            producto['precio'] = precio  # Actualizamos el precio\n",
    "            print(f\"Se han actualizado los datos para el producto: {nombre}\")\n",
    "            return  # Salimos de la función después de actualizar\n",
    "    \n",
    "    # Si el producto no existe, lo agregamos como nuevo\n",
    "      nuevo_producto = {'nombre': nombre, 'precio': precio, 'cantidad': cantidad}\n",
    "      self.inventario.append(nuevo_producto)  # Añadimos el nuevo producto al inventario\n",
    "      print(f\"El producto {nombre} no existía. Se ha añadido al inventario.\")  \n",
    "\n",
    "  def ver_inventario(self):\n",
    "      for producto in self.inventario:\n",
    "           print(f\"Nombre: {producto['nombre']}, Precio: {producto['precio']}, Cantidad: {producto['cantidad']}\") #mostramos los detalles de cada producto tras recorrer el inventario con el for\n",
    "\n",
    "  def buscar_producto(self,nombre):\n",
    "      self.nombre=nombre    \n",
    "      for producto in self.inventario:\n",
    "        if producto['nombre'] == nombre:\n",
    "           print(f\"Nombre: {producto['nombre']}, Precio: {producto['precio']}, Cantidad: {producto['cantidad']}\")\n",
    "           return\n",
    "      print(f\"El producto no está en el inventario\")\n",
    "\n",
    "  def actualizar_stock(self, nombre, cantidad):\n",
    "      for producto in self.inventario:    \n",
    "        if producto['nombre'] == nombre:\n",
    "          producto['cantidad']+= cantidad\n",
    "          return f\"La cantidad de {nombre} se ha actualizado. Cantidad actual:{producto['cantidad']}\"\n",
    "      print(f\"El producto no está en el inventario\")\n",
    "\n",
    "  def eliminar_producto(self, nombre):  # Recorremos el inventario para verificar si el producto ya existe\n",
    "      for i, producto in enumerate(self.inventario):  # Iteramos por cada índice de todos los productos, enumerados, en el inventario.\n",
    "        if producto['nombre'] == nombre:  # Si un nombre de producto en nuestro inventario coincide con el nombre introducido como argumento:\n",
    "          self.inventario.pop(i)  # Eliminamos el producto por su índice\n",
    "          print(f\"Se han eliminado todos los datos para el producto: {nombre}\")\n",
    "          return  # Salimos de la función después de actualizar\n",
    "      print(\"El producto no existe en el inventario.\")  # Si el producto no existe\n",
    "\n",
    "  def calcular_valor_inventario(self):\n",
    "      valor_total = 0.0  #creamos variable para acumular el valor total del inventario.\n",
    "      for producto in self.inventario: #recorremos el inventario multiplicando cada cantidad de producto por su precio, uno a uno, y cada resultado se irá sumando a la variable valor_total\n",
    "          resultado= (producto['cantidad'])*(producto['precio']) #calculamos valor del producto\n",
    "          valor_total += resultado #sumamos cada resultado a la variable valor_total.   \n",
    "      return f\"El valor actual del inventario es: {valor_total}\"\n",
    "  \n",
    "  def realizar_compra(self): \n",
    "\n",
    "    carrito_compra = []  # La compra inicia con el carrito como una lista vacía\n",
    "    importe_total = 0.0  # El importe total de la compra, inicia en 0\n",
    "\n",
    "    while True:\n",
    "        # Muestra el inventario disponible\n",
    "        print(\"Inventario disponible:\")\n",
    "        for producto in self.inventario: #iteramos por los elementos del inventario para que nos muestre lo que hay en él.\n",
    "            print(f\"{producto['nombre']} - Precio: {producto['precio']} - Cantidad disponible: {producto['cantidad']}\")\n",
    "            \n",
    "        select_producto = input(\"Indica un producto de la lista, o escribe 'salir' para terminar \").lower()  # Pedimos al cliente que seleccione producto de la lista\n",
    "\n",
    "        if select_producto == 'salir':\n",
    "            print(f\"Compra finalizada\")\n",
    "            print(f\"Importe total: {importe_total}\")\n",
    "            break\n",
    "\n",
    "        # Buscamos el producto seleccionado en el inventario.\n",
    "\n",
    "        producto_en_inventario = None #Estamos indicando que antes de empezar a iterar por el inventario buscando si el producto se encuentra en el, no hay ningún resultado en la variable ('None'). Para evitar también posibles errores si introduce un producto que no existe.\n",
    "         \n",
    "         #Iteramos por el inventario en búsqueda del producto indicado por el cliente, para saber si alguno de los nombres que contienen coincide con el introducido\n",
    "\n",
    "        for producto in self.inventario: \n",
    "\n",
    "            if producto['nombre'] == select_producto:\n",
    "                producto_en_inventario = producto #guardamos el resultado de la busqueda en esta variable para poder seguir operando con ella, para poder comprobar despues  si la cantidad elegida de este producto, que ya hemos localizado, está disponible.\n",
    "\n",
    "                break  # Salir del bucle si se encuentra el producto\n",
    "\n",
    "            else: \n",
    "                print(f\"El producto {select_producto} no se encuentra en el inventario\")\n",
    "\n",
    "                break\n",
    "                \n",
    "        select_cantidad = int(input(\"Indica la cantidad que deseas comprar: \"))  # Pedimos al cliente que indique la cantidad del producto seleccionado.\n",
    "\n",
    "        if producto_en_inventario:  # Si en el paso anteior el producto ha sido encontrado en el inventario, ocurrirá lo siguiente:\n",
    "\n",
    "            if select_cantidad <= producto_en_inventario['cantidad']:\n",
    "\n",
    "                # Agregar el producto al carrito con append, que nos permite añadir varios a la vez si lo hacemos como 1 elemento, dentro de un diccionario.\n",
    "                carrito_compra.append({\"nombre\": producto_en_inventario['nombre'], \"precio\": producto_en_inventario['precio'], \"cantidad\": select_cantidad})\n",
    "                \n",
    "                # Actualizar inventario\n",
    "                producto_en_inventario['cantidad'] -= select_cantidad  # Restar la cantidad comprada del inventario\n",
    "                total_producto= producto_en_inventario['precio']*select_cantidad #calculamos importe del total comprado por producto.\n",
    "                importe_total+= total_producto #vamos sumando los totales de cada producto comprado al importe total\n",
    "\n",
    "                print(print(f\"Producto agregado al carrito. Importe total: {importe_total}\"))\n",
    "\n",
    "            else:\n",
    "                print(\"No hay suficiente cantidad en el inventario.\")\n",
    "\n"
   ]
  },
  {
   "cell_type": "markdown",
   "metadata": {},
   "source": [
    "Agreagamos las instancias para comprobar las funciones."
   ]
  },
  {
   "cell_type": "code",
   "execution_count": 160,
   "metadata": {},
   "outputs": [
    {
     "name": "stdout",
     "output_type": "stream",
     "text": [
      "El producto pera no existía. Se ha añadido al inventario.\n"
     ]
    }
   ],
   "source": [
    "tienda1=TiendaOnline() # Creamos la instancia.\n",
    "tienda1.agregar_producto('pera', 100, 40)\n"
   ]
  },
  {
   "cell_type": "code",
   "execution_count": 162,
   "metadata": {},
   "outputs": [
    {
     "name": "stdout",
     "output_type": "stream",
     "text": [
      "El producto piña no existía. Se ha añadido al inventario.\n"
     ]
    }
   ],
   "source": [
    "tienda1.agregar_producto('piña', 80, 100)"
   ]
  },
  {
   "cell_type": "code",
   "execution_count": 165,
   "metadata": {},
   "outputs": [
    {
     "name": "stdout",
     "output_type": "stream",
     "text": [
      "Nombre: pera, Precio: 100, Cantidad: 40\n",
      "Nombre: piña, Precio: 80, Cantidad: 100\n"
     ]
    }
   ],
   "source": [
    "tienda1.ver_inventario()"
   ]
  },
  {
   "cell_type": "code",
   "execution_count": 166,
   "metadata": {},
   "outputs": [
    {
     "name": "stdout",
     "output_type": "stream",
     "text": [
      "El producto no está en el inventario\n"
     ]
    }
   ],
   "source": [
    "tienda1.buscar_producto('manzana')"
   ]
  },
  {
   "cell_type": "code",
   "execution_count": 167,
   "metadata": {},
   "outputs": [
    {
     "data": {
      "text/plain": [
       "'La cantidad de pera se ha actualizado. Cantidad actual:60'"
      ]
     },
     "execution_count": 167,
     "metadata": {},
     "output_type": "execute_result"
    }
   ],
   "source": [
    "tienda1.actualizar_stock('pera', 20)"
   ]
  },
  {
   "cell_type": "code",
   "execution_count": 168,
   "metadata": {},
   "outputs": [
    {
     "name": "stdout",
     "output_type": "stream",
     "text": [
      "Se han eliminado todos los datos para el producto: pera\n"
     ]
    }
   ],
   "source": [
    "tienda1.eliminar_producto('pera')\n"
   ]
  },
  {
   "cell_type": "code",
   "execution_count": 169,
   "metadata": {},
   "outputs": [
    {
     "data": {
      "text/plain": [
       "'El valor actual del inventario es: 8000.0'"
      ]
     },
     "execution_count": 169,
     "metadata": {},
     "output_type": "execute_result"
    }
   ],
   "source": [
    "tienda1.calcular_valor_inventario()"
   ]
  },
  {
   "cell_type": "code",
   "execution_count": 158,
   "metadata": {},
   "outputs": [
    {
     "name": "stdout",
     "output_type": "stream",
     "text": [
      "Inventario disponible:\n",
      " - Precio: 0 - Cantidad disponible: 0\n",
      "piña - Precio: 80 - Cantidad disponible: 100\n",
      "Compra finalizada\n",
      "Importe total: 0.0\n"
     ]
    }
   ],
   "source": [
    "tienda1.realizar_compra()"
   ]
  }
 ],
 "metadata": {
  "kernelspec": {
   "display_name": "base",
   "language": "python",
   "name": "python3"
  },
  "language_info": {
   "codemirror_mode": {
    "name": "ipython",
    "version": 3
   },
   "file_extension": ".py",
   "mimetype": "text/x-python",
   "name": "python",
   "nbconvert_exporter": "python",
   "pygments_lexer": "ipython3",
   "version": "3.12.4"
  }
 },
 "nbformat": 4,
 "nbformat_minor": 2
}
