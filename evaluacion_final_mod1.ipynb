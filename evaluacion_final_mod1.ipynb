{
 "cells": [
  {
   "cell_type": "markdown",
   "metadata": {},
   "source": []
  },
  {
   "cell_type": "markdown",
   "metadata": {},
   "source": []
  },
  {
   "cell_type": "code",
   "execution_count": 148,
   "metadata": {},
   "outputs": [],
   "source": [
    "class TiendaOnline: #creamos la clase TiendaOnline   FALTA UNIRLO TODO EN LA CLASE.\n",
    "   \n",
    "   def __init__(self, inventario, clientes, ventas_totales):  #definimos método constructor con los atributos.\n",
    "      \n",
    "      inventario=[{'nombre': '', 'precio': 0, 'cantidad': 0}]\n",
    "      clientes= {{'email': '', 'compras': []}}\n",
    "      \n",
    "      self.inventario=inventario\n",
    "      self.clientes= clientes\n",
    "      self.ventas_totales= 0.00 # iniciamos con un valor de 0 hasta que se introduzca la primera venta.\n",
    "  "
   ]
  },
  {
   "cell_type": "code",
   "execution_count": 40,
   "metadata": {},
   "outputs": [],
   "source": [
    "#método para agregar producto\n",
    "\n",
    "inventario = [] #creamos una esta lista que recogerá todos los productos que vayamos agregando\n",
    "\n",
    "def agregar_producto(nombre, precio, cantidad):  #definimos la función con los tres parámetros que se necesitarán intrucir para agregar el producto al inventario.\n",
    "    # Recorremos el inventario para verificar si el producto ya existe\n",
    "    for producto in inventario:\n",
    "        if producto['nombre'] == nombre:\n",
    "            # Si el producto ya existe, actualizamos su cantidad y precio\n",
    "            producto['cantidad'] += cantidad  # Sumamos la cantidad\n",
    "            producto['precio'] = precio  # Actualizamos el precio\n",
    "            print(f\"Se han actualizado los datos para el producto: {nombre}\")\n",
    "            return  # Salimos de la función después de actualizar\n",
    "    \n",
    "    # Si el producto no existe, lo agregamos como nuevo\n",
    "    nuevo_producto = {'nombre': nombre, 'precio': precio, 'cantidad': cantidad}\n",
    "    inventario.append(nuevo_producto)  # Añadimos el nuevo producto al inventario\n",
    "    print(f\"El producto {nombre} no existía. Se ha añadido al inventario.\")\n"
   ]
  },
  {
   "cell_type": "code",
   "execution_count": 41,
   "metadata": {},
   "outputs": [
    {
     "name": "stdout",
     "output_type": "stream",
     "text": [
      "El producto pera no existía. Se ha añadido al inventario.\n",
      "[{'nombre': 'pera', 'precio': 100, 'cantidad': 40}]\n"
     ]
    }
   ],
   "source": [
    "agregar_producto('pera', 100, 40)\n",
    "print(inventario)"
   ]
  },
  {
   "cell_type": "code",
   "execution_count": 42,
   "metadata": {},
   "outputs": [],
   "source": [
    "\n",
    "def ver_inventario():\n",
    "\n",
    "    for producto in inventario: #recorremos el inventario para recorrer todos los productos dentro del inventario\n",
    "        print(f\"Nombre: {producto['nombre']}, Precio: ${producto['precio']}, Cantidad: {producto['cantidad']}\") #mostramos los detalles de cada producto \n",
    "\n",
    "   \n",
    "    "
   ]
  },
  {
   "cell_type": "code",
   "execution_count": 43,
   "metadata": {},
   "outputs": [
    {
     "name": "stdout",
     "output_type": "stream",
     "text": [
      "Nombre: pera, Precio: $100, Cantidad: 40\n"
     ]
    }
   ],
   "source": [
    "#llamamos a la funcion para comprobar que funciona\n",
    "ver_inventario()"
   ]
  },
  {
   "cell_type": "code",
   "execution_count": 44,
   "metadata": {},
   "outputs": [],
   "source": [
    "def buscar_producto(nombre): #definimos función con el parámetro nombre, ya que el producto se buscará en el inventario por su nombre\n",
    "    \n",
    "    for producto in inventario: #iteramos por los elementos del inventario\n",
    "         \n",
    "         if producto['nombre'] == nombre:#si el nombre introducido coincide con el nombre en el inventario, imprimimos los detalles de ese producto en el inventario.\n",
    "              \n",
    "              print(f\"Nombre: {producto['nombre']}, Precio: ${producto['precio']}, Cantidad: {producto['cantidad']}\")\n",
    "              return\n",
    "         \n",
    "    print(f\"El producto no está en el inventario\") #si tras la iteracion, el nombre proporcionado no coincide con ninguno en la lista, nos imprime este msj."
   ]
  },
  {
   "cell_type": "code",
   "execution_count": 45,
   "metadata": {},
   "outputs": [
    {
     "name": "stdout",
     "output_type": "stream",
     "text": [
      "El producto no está en el inventario\n",
      "[{'nombre': 'pera', 'precio': 100, 'cantidad': 40}]\n"
     ]
    }
   ],
   "source": [
    "buscar_producto('manzana')\n",
    "print(inventario)"
   ]
  },
  {
   "cell_type": "code",
   "execution_count": 46,
   "metadata": {},
   "outputs": [],
   "source": [
    "def actualizar_inventario(nombre, cantidad):\n",
    "\n",
    "    for producto in inventario: #iteramos por los productos del inventario\n",
    "        \n",
    "            if producto['nombre'] == nombre: #si  el nombre introducido se encuentra en la lista:\n",
    "                  producto['cantidad']+= cantidad #suma la cantidad indicada a la que ya había\n",
    "                  return f\"La cantidad de {nombre} se ha actualizado. Cantidad actual:{producto['cantidad']}\" #devuelve msj con la actualización en el inventario.\n",
    "\n",
    "    print(f\"El producto no está en el inventario\")"
   ]
  },
  {
   "cell_type": "code",
   "execution_count": 47,
   "metadata": {},
   "outputs": [
    {
     "name": "stdout",
     "output_type": "stream",
     "text": [
      "El producto no está en el inventario\n"
     ]
    }
   ],
   "source": [
    "actualizar_inventario('mango', 20)"
   ]
  },
  {
   "cell_type": "code",
   "execution_count": 48,
   "metadata": {},
   "outputs": [],
   "source": [
    "def eliminar_producto(nombre):\n",
    "           \n",
    "    # Recorremos el inventario para verificar si el producto ya existe\n",
    "    for i,producto in enumerate(inventario): # Estamos trabajando con una lista (inventario) cuyos elementos son diccionarios. Las listas son indexables, podemos acceder a sus elementos por el índice. Queremos encontrar el índice del elemento que contenga el nombre del producto dado en el argumento. \n",
    "\n",
    "        if producto['nombre'] == nombre: #como buscamos por nombre, si un nombre de producto en nuestro inventario coincide con el nombre introducido como argumento:\n",
    "            inventario.pop(i) # eliminamos el producto por su índice, ya que solo podemos eliminar un elemento, y así podemos eliminar de una el diccionario donde se encuentra el producto con sus tres pares keys-values que contiene.\n",
    "            print(f\"Se han eliminado todos los datos para el  producto: {nombre}\")\n",
    "            return  # Salimos de la función después de actualizar\n",
    "    \n",
    "    # Si el producto no existe\n",
    "    \n",
    "    print(f\"El producto no existe en el inventario.\")"
   ]
  },
  {
   "cell_type": "code",
   "execution_count": 49,
   "metadata": {},
   "outputs": [
    {
     "name": "stdout",
     "output_type": "stream",
     "text": [
      "El producto no existe en el inventario.\n",
      "[{'nombre': 'pera', 'precio': 100, 'cantidad': 40}]\n"
     ]
    }
   ],
   "source": [
    "eliminar_producto('kiwi')\n",
    "print(inventario)"
   ]
  },
  {
   "cell_type": "code",
   "execution_count": 52,
   "metadata": {},
   "outputs": [],
   "source": [
    "def calcular_valor_inventario():\n",
    "        \n",
    "        valor_total = 0  #creamos variable para acumular el valor total del inventario.\n",
    "         \n",
    "        for producto in inventario: #recorremos el inventario multiplicando cada cantidad de producto por su precio, uno a uno, y cada resultado se irá sumando a la variable valor_total\n",
    "            \n",
    "            resultado= (producto['cantidad'])*(producto['precio']) #calculamos valor del producto\n",
    "            valor_total += resultado #sumamos cada resultado a la variable valor_total.\n",
    "\n",
    "        print(f\"El valor actual del inventario es: {valor_total}\")\n",
    "\n",
    "        return valor_total"
   ]
  },
  {
   "cell_type": "code",
   "execution_count": 53,
   "metadata": {},
   "outputs": [
    {
     "name": "stdout",
     "output_type": "stream",
     "text": [
      "El valor actual del inventario es: 4000\n"
     ]
    },
    {
     "data": {
      "text/plain": [
       "4000"
      ]
     },
     "execution_count": 53,
     "metadata": {},
     "output_type": "execute_result"
    }
   ],
   "source": [
    "calcular_valor_inventario()"
   ]
  },
  {
   "cell_type": "code",
   "execution_count": 68,
   "metadata": {},
   "outputs": [],
   "source": [
    "def realizar_compra(): #no me saltan los inputs y falta terminar de acutalizar el costo y comprobar que funcione todo.\n",
    "\n",
    "    carrito_compra = []  # Inicializamos el carrito como una lista vacía\n",
    "    costo_total = 0.0  # Inicializamos el costo total en 0\n",
    "\n",
    "    while True:\n",
    "        # Muestra el inventario disponible\n",
    "        print(\"\\nInventario disponible:\")\n",
    "        for producto in inventario:\n",
    "            print(f\"{producto['nombre']} - Precio: {producto['precio']} - Cantidad disponible: {producto['cantidad']}\")\n",
    "          \n",
    "        select_producto = input(\"Indica un producto de la lista: \").lower()  # Pedimos al cliente que seleccione producto de la lista\n",
    "        select_cantidad = int(input(\"Indica la cantidad que deseas comprar: \"))  # Pedimos al cliente que indique la cantidad del producto seleccionado.\n",
    "\n",
    "        # Buscamos el producto seleccionado en el inventario.\n",
    "        producto_en_inventario = None\n",
    "        \n",
    "        for producto in inventario:\n",
    "            if producto['nombre'] == select_producto:\n",
    "                producto_en_inventario = producto\n",
    "                break  # Salir del bucle si se encuentra el producto\n",
    "\n",
    "        if producto_en_inventario in inventario:  # Si se encuentra el producto\n",
    "            if select_cantidad <= producto_en_inventario['cantidad']:\n",
    "                # Agregar el producto al carrito\n",
    "                carrito_compra.append({\"nombre\": producto_en_inventario['nombre'], \"precio\": producto_en_inventario['precio'], \"cantidad\": select_cantidad})\n",
    "                # Actualizar inventario\n",
    "                producto_en_inventario['cantidad'] -= select_cantidad  # Restar la cantidad comprada del inventario\n",
    "                #actualizar costo.\n",
    "\n",
    "\n",
    "            else:\n",
    "                print(\"No hay suficiente cantidad en el inventario.\")\n",
    "        else:\n",
    "            print(\"El producto no se encuentra en el inventario.\")"
   ]
  }
 ],
 "metadata": {
  "kernelspec": {
   "display_name": "base",
   "language": "python",
   "name": "python3"
  },
  "language_info": {
   "codemirror_mode": {
    "name": "ipython",
    "version": 3
   },
   "file_extension": ".py",
   "mimetype": "text/x-python",
   "name": "python",
   "nbconvert_exporter": "python",
   "pygments_lexer": "ipython3",
   "version": "3.12.4"
  }
 },
 "nbformat": 4,
 "nbformat_minor": 2
}
