{
 "cells": [
  {
   "cell_type": "code",
   "execution_count": 3,
   "metadata": {},
   "outputs": [],
   "source": [
    "class TiendaOnline: #creamos la clase TiendaOnline\n",
    "    \n",
    "  def __init__(self):  #definimos método constructor con los atributos.\n",
    "\n",
    "    self.inventario=[]\n",
    "    self.clientes= {'email': '', 'compras': []}\n",
    "    self.ventas_totales= 0.00 # iniciamos con un valor de 0 hasta que se introduzca la primera venta."
   ]
  },
  {
   "cell_type": "code",
   "execution_count": 4,
   "metadata": {},
   "outputs": [],
   "source": [
    "#método para agregar producto\n",
    "\n",
    "inventario = [] #creamos una esta lista que recogerá todos los productos que vayamos agregando\n",
    "\n",
    "def agregar_producto(nombre, precio, cantidad):  #definimos la función con los tres parámetros que se necesitarán intrucir para agregar el producto al inventario.\n",
    "    # Recorremos el inventario para verificar si el producto ya existe\n",
    "    for producto in inventario:\n",
    "        if producto['nombre'] == nombre:\n",
    "            # Si el producto ya existe, actualizamos su cantidad y precio\n",
    "            producto['cantidad'] += cantidad  # Sumamos la cantidad\n",
    "            producto['precio'] = precio  # Actualizamos el precio\n",
    "            print(f\"Se han actualizado los datos para el producto: {nombre}\")\n",
    "            return  # Salimos de la función después de actualizar\n",
    "    \n",
    "    # Si el producto no existe, lo agregamos como nuevo\n",
    "    nuevo_producto = {'nombre': nombre, 'precio': precio, 'cantidad': cantidad}\n",
    "    inventario.append(nuevo_producto)  # Añadimos el nuevo producto al inventario\n",
    "    print(f\"El producto {nombre} no existía. Se ha añadido al inventario.\")"
   ]
  },
  {
   "cell_type": "code",
   "execution_count": 5,
   "metadata": {},
   "outputs": [
    {
     "name": "stdout",
     "output_type": "stream",
     "text": [
      "El producto pera no existía. Se ha añadido al inventario.\n",
      "[{'nombre': 'pera', 'precio': 100, 'cantidad': 40}]\n"
     ]
    }
   ],
   "source": [
    "agregar_producto('pera', 100, 40)"
   ]
  },
  {
   "cell_type": "code",
   "execution_count": 6,
   "metadata": {},
   "outputs": [],
   "source": [
    "def ver_inventario():\n",
    "\n",
    "    for producto in inventario: #recorremos el inventario para recorrer todos los productos dentro del inventario\n",
    "        print(f\"Nombre: {producto['nombre']}, Precio: {producto['precio']}, Cantidad: {producto['cantidad']}\") #mostramos los detalles de cada producto "
   ]
  },
  {
   "cell_type": "code",
   "execution_count": 7,
   "metadata": {},
   "outputs": [
    {
     "name": "stdout",
     "output_type": "stream",
     "text": [
      "Nombre: pera, Precio: $100, Cantidad: 40\n"
     ]
    }
   ],
   "source": [
    "ver_inventario()"
   ]
  },
  {
   "cell_type": "code",
   "execution_count": 8,
   "metadata": {},
   "outputs": [],
   "source": [
    "def buscar_producto(nombre): #definimos función con el parámetro nombre, ya que el producto se buscará en el inventario por su nombre\n",
    "    \n",
    "    for producto in inventario: #iteramos por los elementos del inventario\n",
    "         \n",
    "         if producto['nombre'] == nombre:#si el nombre introducido coincide con el nombre en el inventario, imprimimos los detalles de ese producto en el inventario.\n",
    "              \n",
    "              print(f\"Nombre: {producto['nombre']}, Precio: {producto['precio']}, Cantidad: {producto['cantidad']}\")\n",
    "              return\n",
    "         \n",
    "    print(f\"El producto no está en el inventario\") #si tras la iteracion, el nombre proporcionado no coincide con ninguno en la lista, nos imprime este msj."
   ]
  },
  {
   "cell_type": "code",
   "execution_count": 10,
   "metadata": {},
   "outputs": [
    {
     "name": "stdout",
     "output_type": "stream",
     "text": [
      "El producto no está en el inventario\n"
     ]
    }
   ],
   "source": [
    "buscar_producto('manzana')"
   ]
  },
  {
   "cell_type": "code",
   "execution_count": 11,
   "metadata": {},
   "outputs": [],
   "source": [
    "def actualizar_inventario(nombre, cantidad):\n",
    "\n",
    "    for producto in inventario: #iteramos por los productos del inventario\n",
    "        \n",
    "            if producto['nombre'] == nombre: #si  el nombre introducido se encuentra en la lista:\n",
    "                  producto['cantidad']+= cantidad #suma la cantidad indicada a la que ya había\n",
    "                  return f\"La cantidad de {nombre} se ha actualizado. Cantidad actual:{producto['cantidad']}\" #devuelve msj con la actualización en el inventario.\n",
    "\n",
    "    print(f\"El producto no está en el inventario\")"
   ]
  },
  {
   "cell_type": "code",
   "execution_count": 12,
   "metadata": {},
   "outputs": [
    {
     "name": "stdout",
     "output_type": "stream",
     "text": [
      "El producto no está en el inventario\n"
     ]
    }
   ],
   "source": [
    "actualizar_inventario('mango', 20)"
   ]
  },
  {
   "cell_type": "code",
   "execution_count": 13,
   "metadata": {},
   "outputs": [],
   "source": [
    "def eliminar_producto(nombre):\n",
    "           \n",
    "    # Recorremos el inventario para verificar si el producto ya existe\n",
    "    for i,producto in enumerate(inventario): # Estamos trabajando con una lista (inventario) cuyos elementos son diccionarios. Las listas son indexables, podemos acceder a sus elementos por el índice. Queremos encontrar el índice del elemento que contenga el nombre del producto dado en el argumento. \n",
    "\n",
    "        if producto['nombre'] == nombre: #como buscamos por nombre, si un nombre de producto en nuestro inventario coincide con el nombre introducido como argumento:\n",
    "            inventario.pop(i) # eliminamos el producto por su índice, ya que solo podemos eliminar un elemento, y así podemos eliminar de una el diccionario donde se encuentra el producto con sus tres pares keys-values que contiene.\n",
    "            print(f\"Se han eliminado todos los datos para el  producto: {nombre}\")\n",
    "            return  # Salimos de la función después de actualizar\n",
    "    \n",
    "    # Si el producto no existe\n",
    "    \n",
    "    print(f\"El producto no existe en el inventario.\")"
   ]
  },
  {
   "cell_type": "code",
   "execution_count": 14,
   "metadata": {},
   "outputs": [
    {
     "name": "stdout",
     "output_type": "stream",
     "text": [
      "El producto no existe en el inventario.\n",
      "[{'nombre': 'pera', 'precio': 100, 'cantidad': 40}]\n"
     ]
    }
   ],
   "source": [
    "eliminar_producto('kiwi')"
   ]
  },
  {
   "cell_type": "code",
   "execution_count": 15,
   "metadata": {},
   "outputs": [],
   "source": [
    "def calcular_valor_inventario():\n",
    "        \n",
    "        valor_total = 0  #creamos variable para acumular el valor total del inventario.\n",
    "         \n",
    "        for producto in inventario: #recorremos el inventario multiplicando cada cantidad de producto por su precio, uno a uno, y cada resultado se irá sumando a la variable valor_total\n",
    "            \n",
    "            resultado= (producto['cantidad'])*(producto['precio']) #calculamos valor del producto\n",
    "            valor_total += resultado #sumamos cada resultado a la variable valor_total.\n",
    "\n",
    "        return valor_total"
   ]
  },
  {
   "cell_type": "code",
   "execution_count": 16,
   "metadata": {},
   "outputs": [
    {
     "data": {
      "text/plain": [
       "4000"
      ]
     },
     "execution_count": 16,
     "metadata": {},
     "output_type": "execute_result"
    }
   ],
   "source": [
    "calcular_valor_inventario()"
   ]
  },
  {
   "cell_type": "code",
   "execution_count": 17,
   "metadata": {},
   "outputs": [],
   "source": [
    "def realizar_compra(): \n",
    "\n",
    "    carrito_compra = []  # La compra inicia con el carrito como una lista vacía\n",
    "    importe_total = 0.00  # El importe total de la compra, inicia en 0\n",
    "\n",
    "    while True:\n",
    "        # Muestra el inventario disponible\n",
    "        print(\"\\nInventario disponible:\")\n",
    "        for producto in inventario: #iteramos por los elementos del inventario para que nos muestre lo que hay en él.\n",
    "            print(f\"{producto['nombre']} - Precio: {producto['precio']} - Cantidad disponible: {producto['cantidad']}\")\n",
    "            \n",
    "        select_producto = input(\"Indica un producto de la lista, o escribe 'salir' para terminar \").lower()  # Pedimos al cliente que seleccione producto de la lista\n",
    "\n",
    "        if select_producto == 'salir':\n",
    "            print(f\"Compra finalizada\")\n",
    "            print(f\"Importe total: {importe_total}\")\n",
    "            break\n",
    "\n",
    "        # Buscamos el producto seleccionado en el inventario.\n",
    "\n",
    "        producto_en_inventario = None #Estamos indicando que antes de empezar a iterar por el inventario buscando si el producto se encuentra en el, no hay ningún resultado en la variable ('None'). Para evitar también posibles errores si introduce un producto que no existe.\n",
    "         \n",
    "         #Iteramos por el inventario en búsqueda del producto indicado por el cliente, para saber si alguno de los nombres que contienen coincide con el introducido\n",
    "\n",
    "        for producto in inventario: \n",
    "\n",
    "            if producto['nombre'] == select_producto:\n",
    "                producto_en_inventario = producto #guardamos el resultado de la busqueda en esta variable para poder seguir operando con ella, para poder comprobar despues  si la cantidad elegida de este producto, que ya hemos localizado, está disponible.\n",
    "\n",
    "                break  # Salir del bucle si se encuentra el producto\n",
    "\n",
    "            else: \n",
    "                print(f\"El producto {select_producto} no se encuentra en el inventario\")\n",
    "\n",
    "                break\n",
    "        \n",
    "        \n",
    "        select_cantidad = int(input(\"Indica la cantidad que deseas comprar: \"))  # Pedimos al cliente que indique la cantidad del producto seleccionado.\n",
    "\n",
    "        if producto_en_inventario:  # Si en el paso anteior el producto ha sido encontrado en el inventario, ocurrirá lo siguiente:\n",
    "\n",
    "            if select_cantidad <= producto_en_inventario['cantidad']:\n",
    "\n",
    "                # Agregar el producto al carrito con append, que nos permite añadir varios a la vez si lo hacemos como 1 elemento, dentro de un diccionario.\n",
    "                carrito_compra.append({\"nombre\": producto_en_inventario['nombre'], \"precio\": producto_en_inventario['precio'], \"cantidad\": select_cantidad})\n",
    "                \n",
    "                # Actualizar inventario\n",
    "                producto_en_inventario['cantidad'] -= select_cantidad  # Restar la cantidad comprada del inventario\n",
    "                total_producto= producto_en_inventario['precio']*select_cantidad #calculamos importe del total comprado por producto.\n",
    "                importe_total+= total_producto #vamos sumando los totales de cada producto comprado al importe total\n",
    "                print(print(f\"Producto agregado al carrito. Importe total: {importe_total}\"))\n",
    "\n",
    "            else:\n",
    "                print(\"No hay suficiente cantidad en el inventario.\")"
   ]
  },
  {
   "cell_type": "code",
   "execution_count": 18,
   "metadata": {},
   "outputs": [
    {
     "name": "stdout",
     "output_type": "stream",
     "text": [
      "\n",
      "Inventario disponible:\n",
      "pera - Precio: 100 - Cantidad disponible: 40\n",
      "Compra finalizada\n",
      "Importe total: 0.0\n"
     ]
    }
   ],
   "source": [
    "realizar_compra()"
   ]
  },
  {
   "cell_type": "code",
   "execution_count": 5,
   "metadata": {},
   "outputs": [],
   "source": [
    "def procesar_pago():\n",
    "  \n",
    "    pago = input(\"¿Desea realizar el pago ahora? Responda: 'si' o 'no' \").lower() #Preguntamos al cliente si desea iniciar el proceso para el pago\n",
    "\n",
    "    if pago == \"si\":\n",
    "     \n",
    "     try: #usamos try para evitar posibles errores en la introducción de los importes, y en lugar de dígitos el cliente introduce caracteres.\n",
    "\n",
    "        cantidad_a_pagar = float(input(\"Introduzca el importe total sobre el que va realizar el pago: \")) #Le pedimos que introduzca el importe a pagar\n",
    "        cantidad_entregada = float(input(\"Introduzca la cantidad que va a depositar para pagar: \"))#Le pedimos que introduzca la cantidad con la que va a pagar.\n",
    "    \n",
    "        if cantidad_entregada >= cantidad_a_pagar: #si la cantidad que se entrega es mayor o igual que el importe a pagar, procesamos el cambio y se lanza mensaje de confirmacion.\n",
    "            cambio = cantidad_entregada - cantidad_a_pagar\n",
    "            print(f\"Pago realizado. El importe a devolver es de {cambio}\")\n",
    "        else:\n",
    "            print(\"Importe insuficiente para procesar el pago.\") #en caso de que la cantidad entregada para pagar sea menos que el importe, se imprime mensaje.\n",
    "                    \n",
    "     except ValueError: \n",
    "        print(\"Error: por favor introduzca un número válido para los importes.Utilice sólo dígitos.\")\n",
    "\n",
    "    elif pago==\"no\": #en caso de que responda no al primer input de inicio de proceso de pago.\n",
    "       print(\"Proceso de pago finalizado. Importe pendiente de pago: {importe_total}\")\n",
    "\n",
    "    else:\n",
    "         print(\"Por favor, introduzca una respuesta válida. Responda 'Si' o 'no' \") #en el caso de que responda algo distinto a 'si' o 'no' en el primer input."
   ]
  },
  {
   "cell_type": "code",
   "execution_count": 6,
   "metadata": {},
   "outputs": [
    {
     "name": "stdout",
     "output_type": "stream",
     "text": [
      "Pago realizado. El importe a devolver es de 15.0\n"
     ]
    }
   ],
   "source": [
    "procesar_pago()"
   ]
  },
  {
   "cell_type": "code",
   "execution_count": 9,
   "metadata": {},
   "outputs": [],
   "source": [
    "clientes= {}    \n",
    "\n",
    "def agregar_cliente(nombre, email):\n",
    "    \n",
    "     \n",
    "   if nombre in clientes:\n",
    "    return f\"El cliente ya estaba dado de alta\"\n",
    "        \n",
    "   \n",
    "   clientes[nombre] = {'email': email, 'compras': []}\n",
    "   print(f\"El cliente se ha dado de alta: {{'nombre': '{nombre}', 'email': '{email}'}}\")\n",
    "       \n",
    "   return clientes"
   ]
  },
  {
   "cell_type": "code",
   "execution_count": 11,
   "metadata": {},
   "outputs": [
    {
     "name": "stdout",
     "output_type": "stream",
     "text": [
      "El cliente se ha dado de alta: {'nombre': 'Alimerka, S.L.', 'email': 'compras@alimerka.es'}\n"
     ]
    },
    {
     "data": {
      "text/plain": [
       "{'Antonio Garcia': {'email': 'agarcia@gmail.com', 'compras': []},\n",
       " 'Alimerka, S.L.': {'email': 'compras@alimerka.es', 'compras': []}}"
      ]
     },
     "execution_count": 11,
     "metadata": {},
     "output_type": "execute_result"
    }
   ],
   "source": [
    "agregar_cliente('Alimerka, S.L.', 'compras@alimerka.es')"
   ]
  }
 ],
 "metadata": {
  "kernelspec": {
   "display_name": "base",
   "language": "python",
   "name": "python3"
  },
  "language_info": {
   "codemirror_mode": {
    "name": "ipython",
    "version": 3
   },
   "file_extension": ".py",
   "mimetype": "text/x-python",
   "name": "python",
   "nbconvert_exporter": "python",
   "pygments_lexer": "ipython3",
   "version": "3.12.4"
  }
 },
 "nbformat": 4,
 "nbformat_minor": 2
}
